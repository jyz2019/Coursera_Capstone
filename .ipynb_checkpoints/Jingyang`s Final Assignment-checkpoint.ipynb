{
 "cells": [
  {
   "cell_type": "markdown",
   "metadata": {},
   "source": [
    "<h1 align=\"center\">Jingyang`s Final Assignment</h1>"
   ]
  },
  {
   "cell_type": "markdown",
   "metadata": {},
   "source": [
    "<p style='text-align: justify;'> Hi, glad to meet you at here. I wrote those words/codes to get a training in Python data science. </p>"
   ]
  },
  {
   "cell_type": "markdown",
   "metadata": {},
   "source": [
    "## Part 1 My Plan and Design  "
   ]
  },
  {
   "cell_type": "markdown",
   "metadata": {},
   "source": [
    "<p style='text-align: justify;'> \n",
    "I want to explore the relationship between the venues trending and their positions. It is quite common to think that those hot venues may be next to each other. But the thing is, how close they are and if it is possible for us to find the possibilities of creating a new \"hot group\". That`s what I want to do with FourSquare.\n",
    "\n",
    "My protential audience would be self-employed persons and investors. For self-employers like shop owners, they can make a good use of my result to have a better understand of the trend of business district, they can wisely choose where to do there business. For investors, they can also have a better understanding of the business trends, but from higher perspectives. They can use my results to create new business distince more efficiently, which is essential for them to make more money. </p>"
   ]
  },
  {
   "cell_type": "markdown",
   "metadata": {},
   "source": [
    " "
   ]
  },
  {
   "cell_type": "markdown",
   "metadata": {},
   "source": [
    "<p style='text-align: justify;'>  \n",
    "I will be using the data from FourSquare and some geo-related Python libraries. I plan to use the data from the FourSquare about the trending and position of venues and with the help of Python packages to do visualization and machine learning. \n",
    "\n",
    "For example, I can get the check-in number of people of each venue, which would be an important factor that determines whether it is a hot place or not. Then, I will calculate the number limit for determining \"hot\" or not. I plan to choose the top 20% venues. Then I will get their physical position via Python librarys. Then do the visualization and clustering. \n",
    "</p>"
   ]
  },
  {
   "cell_type": "markdown",
   "metadata": {},
   "source": []
  }
 ],
 "metadata": {
  "kernelspec": {
   "display_name": "Python 3",
   "language": "python",
   "name": "python3"
  },
  "language_info": {
   "codemirror_mode": {
    "name": "ipython",
    "version": 3
   },
   "file_extension": ".py",
   "mimetype": "text/x-python",
   "name": "python",
   "nbconvert_exporter": "python",
   "pygments_lexer": "ipython3",
   "version": "3.7.0"
  }
 },
 "nbformat": 4,
 "nbformat_minor": 2
}
